{
  "nbformat": 4,
  "nbformat_minor": 0,
  "metadata": {
    "colab": {
      "name": "going nowhere",
      "version": "0.3.2",
      "provenance": [],
      "collapsed_sections": []
    },
    "kernelspec": {
      "name": "python3",
      "display_name": "Python 3"
    },
    "accelerator": "GPU"
  },
  "cells": [
    {
      "metadata": {
        "id": "f9Lm0kiV8eYX",
        "colab_type": "code",
        "outputId": "1009c3a3-a2e5-4565-eb7e-2cff484ed23f",
        "colab": {
          "base_uri": "https://localhost:8080/",
          "height": 34
        }
      },
      "cell_type": "code",
      "source": [
        "from google.colab import drive\n",
        "drive.mount(\"/content/drive\", force_remount=True)"
      ],
      "execution_count": 0,
      "outputs": [
        {
          "output_type": "stream",
          "text": [
            "Mounted at /content/drive\n"
          ],
          "name": "stdout"
        }
      ]
    },
    {
      "metadata": {
        "id": "BCkAS7iA-uv2",
        "colab_type": "code",
        "colab": {}
      },
      "cell_type": "code",
      "source": [
        "filename ='/content/drive/My Drive/YearPredictionMSD.csv'"
      ],
      "execution_count": 0,
      "outputs": []
    },
    {
      "metadata": {
        "id": "Xdpa6-2N_Unp",
        "colab_type": "code",
        "colab": {}
      },
      "cell_type": "code",
      "source": [
        "import csv\n",
        "import matplotlib.pyplot as plt\n",
        "import numpy as np"
      ],
      "execution_count": 0,
      "outputs": []
    },
    {
      "metadata": {
        "id": "Un1hig70AsFZ",
        "colab_type": "code",
        "colab": {}
      },
      "cell_type": "code",
      "source": [
        "rows = []"
      ],
      "execution_count": 0,
      "outputs": []
    },
    {
      "metadata": {
        "id": "l4MBV-Wbu_lt",
        "colab_type": "text"
      },
      "cell_type": "markdown",
      "source": [
        "Loading data file and reading into arrays"
      ]
    },
    {
      "metadata": {
        "id": "bIOCD9bu_6IN",
        "colab_type": "code",
        "colab": {}
      },
      "cell_type": "code",
      "source": [
        "with open(filename, 'r') as csvfile:\n",
        "  csvreader = csv.reader(csvfile)\n",
        "  for row in csvreader:\n",
        "    rows.append(row)"
      ],
      "execution_count": 0,
      "outputs": []
    },
    {
      "metadata": {
        "id": "2KBQqdM2BdZl",
        "colab_type": "code",
        "colab": {}
      },
      "cell_type": "code",
      "source": [
        "  A = np.array(rows)\n",
        "  A[:,0]\n",
        "  A = A.astype(np.float)"
      ],
      "execution_count": 0,
      "outputs": []
    },
    {
      "metadata": {
        "id": "TCKRWxDNvs1A",
        "colab_type": "code",
        "colab": {}
      },
      "cell_type": "code",
      "source": [
        "train_len = 463715\n",
        "test_len = 51630"
      ],
      "execution_count": 0,
      "outputs": []
    },
    {
      "metadata": {
        "id": "3fukPStovyjU",
        "colab_type": "code",
        "outputId": "79230f7b-8142-4031-f0d4-8080b92b32a7",
        "colab": {
          "base_uri": "https://localhost:8080/",
          "height": 34
        }
      },
      "cell_type": "code",
      "source": [
        "y = A[0:train_len,0:1].copy()\n",
        "y.shape\n"
      ],
      "execution_count": 0,
      "outputs": [
        {
          "output_type": "execute_result",
          "data": {
            "text/plain": [
              "(463715, 1)"
            ]
          },
          "metadata": {
            "tags": []
          },
          "execution_count": 8
        }
      ]
    },
    {
      "metadata": {
        "id": "ftam_v0v3WPI",
        "colab_type": "code",
        "outputId": "59cad09d-afc5-40f6-e300-30b8a85d7348",
        "colab": {
          "base_uri": "https://localhost:8080/",
          "height": 34
        }
      },
      "cell_type": "code",
      "source": [
        "y.shape"
      ],
      "execution_count": 0,
      "outputs": [
        {
          "output_type": "execute_result",
          "data": {
            "text/plain": [
              "(463715, 1)"
            ]
          },
          "metadata": {
            "tags": []
          },
          "execution_count": 255
        }
      ]
    },
    {
      "metadata": {
        "id": "LxP9OhyC5jTM",
        "colab_type": "code",
        "outputId": "3849fd95-ec6b-4f0b-d9be-8eeffb61f798",
        "colab": {
          "base_uri": "https://localhost:8080/",
          "height": 34
        }
      },
      "cell_type": "code",
      "source": [
        "X = A[0:train_len,:].copy()\n",
        "X[0:train_len,0] = 1\n",
        "X.shape\n"
      ],
      "execution_count": 0,
      "outputs": [
        {
          "output_type": "execute_result",
          "data": {
            "text/plain": [
              "(463715, 91)"
            ]
          },
          "metadata": {
            "tags": []
          },
          "execution_count": 9
        }
      ]
    },
    {
      "metadata": {
        "id": "hBadNrVF3bVO",
        "colab_type": "code",
        "colab": {}
      },
      "cell_type": "code",
      "source": [
        "# ########### Multi Linear Regression ####################\n",
        "# B = np.dot(np.linalg.inv(np.dot(np.transpose(X),X)),np.dot(np.transpose(X),Y))\n",
        "# y_tr = np.dot(X,B)\n",
        "\n"
      ],
      "execution_count": 0,
      "outputs": []
    },
    {
      "metadata": {
        "id": "ymyn6XPy344-",
        "colab_type": "code",
        "outputId": "656ad331-ac47-4911-d0a1-95f33ea54dd3",
        "colab": {
          "base_uri": "https://localhost:8080/",
          "height": 104
        }
      },
      "cell_type": "code",
      "source": [
        "Serr = 0\n",
        "SAerr = 0\n",
        "count = 0\n",
        "SSerr = 0\n",
        "MSerr = 0\n",
        "\n",
        "diff = y_tr - y  \n",
        "for i in range(0, train_len):\n",
        "  Serr = Serr + y_tr[i,0] - y[i,0] \n",
        "  SAerr = SAerr + abs(y[i,0]-y_tr[i,0])\n",
        "  SSerr = SSerr + ( (y[i,0]-y_tr[i,0])*(y[i,0]-y_tr[i,0]) )\n",
        "  MSerr = MSerr + ( (y[i,0]-y_tr[i,0])*(y[i,0]-y_tr[i,0]) )\n",
        "\n",
        "MSerr = MSerr/(train_len-91)\n",
        "xyz = (abs(diff)<=2).sum()\n",
        "print(\" No of correct predictions = \" + str(xyz))\n",
        "print(\" Percentage correct predictions = \" + str( xyz / train_len))\n",
        "print(\"Sum err: \"+ str(Serr))\n",
        "print(\"Sum abs err: \"+ str(SAerr))\n",
        "print(\"MS Res:: \"+ str(MSerr) )"
      ],
      "execution_count": 0,
      "outputs": [
        {
          "output_type": "stream",
          "text": [
            " No of correct predictions = 970\n",
            " Percentage correct predictions = 0.002091802076706598\n",
            "Sum err: -35421371.99999993\n",
            "Sum abs err: 35421372.006456\n",
            "MS Res:: 5955.667840916602\n"
          ],
          "name": "stdout"
        }
      ]
    },
    {
      "metadata": {
        "id": "xsh1BEGd4eHw",
        "colab_type": "code",
        "outputId": "c5d8fd65-df43-44f1-ea86-c187f37b41d6",
        "colab": {
          "base_uri": "https://localhost:8080/",
          "height": 52
        }
      },
      "cell_type": "code",
      "source": [
        "import math\n",
        "\n",
        "n = train_len\n",
        "\n",
        "K = 90\n",
        "\n",
        "AIC = n*math.log(SSerr/n) + 2*K\n",
        "BIC = n*math.log(SSerr/n) + K*math.log(n)\n",
        "\n",
        "print(\"AIC = \"+str(AIC))\n",
        "print(\"BIC = \"+ str(BIC))"
      ],
      "execution_count": 0,
      "outputs": [
        {
          "output_type": "stream",
          "text": [
            "AIC = 4030746.5044289883\n",
            "BIC = 4031740.7367166406\n"
          ],
          "name": "stdout"
        }
      ]
    },
    {
      "metadata": {
        "id": "kyibe4-uB-vx",
        "colab_type": "code",
        "colab": {}
      },
      "cell_type": "code",
      "source": [
        "############3LINEAR Regression DOne#######\n"
      ],
      "execution_count": 0,
      "outputs": []
    },
    {
      "metadata": {
        "id": "x1Dv9dyQ8Fl3",
        "colab_type": "text"
      },
      "cell_type": "markdown",
      "source": [
        "Counting the year frequency in training data ( year range is 1922 to 2011)"
      ]
    },
    {
      "metadata": {
        "id": "k5cZ8y_aHyz2",
        "colab_type": "code",
        "outputId": "25b8ced1-00a0-4cf9-962a-c1d529a35d95",
        "colab": {
          "base_uri": "https://localhost:8080/",
          "height": 286
        }
      },
      "cell_type": "code",
      "source": [
        "count = np.zeros((2012-1922,1))\n",
        "for i in range(0,train_len):\n",
        "  count[int(y[i,0]-1922),0]+=1\n",
        "years = range(1922,2012)\n",
        "plt.plot(years, count)\n",
        "#plt.bar(2012-1922, count, align='center', alpha=0.2) bar plot nahi ban raha"
      ],
      "execution_count": 0,
      "outputs": [
        {
          "output_type": "execute_result",
          "data": {
            "text/plain": [
              "[<matplotlib.lines.Line2D at 0x7f8274bf9278>]"
            ]
          },
          "metadata": {
            "tags": []
          },
          "execution_count": 10
        },
        {
          "output_type": "display_data",
          "data": {
            "image/png": "[encoded data removed]",
            "text/plain": [
              "<Figure size 432x288 with 1 Axes>"
            ]
          },
          "metadata": {
            "tags": []
          }
        }
      ]
    },
    {
      "metadata": {
        "id": "J0JN3nscLHRC",
        "colab_type": "text"
      },
      "cell_type": "markdown",
      "source": [
        "Normalizing the data"
      ]
    },
    {
      "metadata": {
        "id": "yeZ8L0R7JIso",
        "colab_type": "code",
        "outputId": "5f037995-3329-487b-8fc7-7dabc08b8c09",
        "colab": {
          "base_uri": "https://localhost:8080/",
          "height": 286
        }
      },
      "cell_type": "code",
      "source": [
        "y = y - y.min()\n",
        "m = X.min()\n",
        "n = X.max()\n",
        "X = (X - m)/(n - m)\n",
        "plt.plot(sorted(y))"
      ],
      "execution_count": 0,
      "outputs": [
        {
          "output_type": "execute_result",
          "data": {
            "text/plain": [
              "[<matplotlib.lines.Line2D at 0x7f8270740978>]"
            ]
          },
          "metadata": {
            "tags": []
          },
          "execution_count": 11
        },
        {
          "output_type": "display_data",
          "data": {
            "image/png": "[encoded data removed]",
            "text/plain": [
              "<Figure size 432x288 with 1 Axes>"
            ]
          },
          "metadata": {
            "tags": []
          }
        }
      ]
    },
    {
      "metadata": {
        "id": "hyoki8Yv7EJR",
        "colab_type": "code",
        "outputId": "6c4e8112-79a7-4b2e-bda2-a022856b7655",
        "colab": {
          "base_uri": "https://localhost:8080/",
          "height": 139
        }
      },
      "cell_type": "code",
      "source": [
        "y"
      ],
      "execution_count": 0,
      "outputs": [
        {
          "output_type": "execute_result",
          "data": {
            "text/plain": [
              "array([[79.],\n",
              "       [79.],\n",
              "       [79.],\n",
              "       ...,\n",
              "       [85.],\n",
              "       [84.],\n",
              "       [85.]])"
            ]
          },
          "metadata": {
            "tags": []
          },
          "execution_count": 17
        }
      ]
    },
    {
      "metadata": {
        "id": "2QmFqMNZRoqf",
        "colab_type": "code",
        "colab": {}
      },
      "cell_type": "code",
      "source": [
        ""
      ],
      "execution_count": 0,
      "outputs": []
    },
    {
      "metadata": {
        "id": "uROOgEYdclf2",
        "colab_type": "text"
      },
      "cell_type": "markdown",
      "source": [
        "Working on the new logistic model, using vectors for each year."
      ]
    },
    {
      "metadata": {
        "colab_type": "code",
        "outputId": "ad3dd27e-be4a-4d5b-d57e-1a1dee08ed06",
        "id": "PO8c3mYloqyY",
        "colab": {
          "base_uri": "https://localhost:8080/",
          "height": 121
        }
      },
      "cell_type": "code",
      "source": [
        "Y = np.zeros((train_len,90))\n",
        "for i in range(0,train_len):\n",
        "  Y[i,int(y[i,0])] = 1\n",
        "Y[0,:]"
      ],
      "execution_count": 0,
      "outputs": [
        {
          "output_type": "execute_result",
          "data": {
            "text/plain": [
              "array([0., 0., 0., 0., 0., 0., 0., 0., 0., 0., 0., 0., 0., 0., 0., 0., 0.,\n",
              "       0., 0., 0., 0., 0., 0., 0., 0., 0., 0., 0., 0., 0., 0., 0., 0., 0.,\n",
              "       0., 0., 0., 0., 0., 0., 0., 0., 0., 0., 0., 0., 0., 0., 0., 0., 0.,\n",
              "       0., 0., 0., 0., 0., 0., 0., 0., 0., 0., 0., 0., 0., 0., 0., 0., 0.,\n",
              "       0., 0., 0., 0., 0., 0., 0., 0., 0., 0., 0., 1., 0., 0., 0., 0., 0.,\n",
              "       0., 0., 0., 0., 0.])"
            ]
          },
          "metadata": {
            "tags": []
          },
          "execution_count": 12
        }
      ]
    },
    {
      "metadata": {
        "id": "SzBCqGt0MQPV",
        "colab_type": "code",
        "outputId": "57f8bfef-72c6-4f8d-886a-5958a7031798",
        "colab": {
          "base_uri": "https://localhost:8080/",
          "height": 34
        }
      },
      "cell_type": "code",
      "source": [
        "B = np.dot(np.linalg.inv(np.dot(np.transpose(X),X)),np.dot(np.transpose(X),Y))\n",
        "B[0,0]"
      ],
      "execution_count": 0,
      "outputs": [
        {
          "output_type": "execute_result",
          "data": {
            "text/plain": [
              "0.8596232078705444"
            ]
          },
          "metadata": {
            "tags": []
          },
          "execution_count": 270
        }
      ]
    },
    {
      "metadata": {
        "id": "bG1buLuGo6TL",
        "colab_type": "text"
      },
      "cell_type": "markdown",
      "source": [
        "Checking for residuals:"
      ]
    },
    {
      "metadata": {
        "id": "R-yC8K_vo-K5",
        "colab_type": "code",
        "outputId": "bc3f5b8b-ed90-49ff-c699-d5fa31d7b890",
        "colab": {
          "base_uri": "https://localhost:8080/",
          "height": 52
        }
      },
      "cell_type": "code",
      "source": [
        "ANS = np.dot(X,B)\n",
        "ans = np.zeros((np.size(ANS,0),1))   ### predictions insample\n",
        "for i in range(0,np.size(ANS,0)):\n",
        "  ans[i,0] = np.argmax(ANS[i,:])\n",
        "res = ans - y\n",
        "MSres = 0\n",
        "print(np.max(res))\n",
        "for i in range(0,np.size(ANS,0)):\n",
        "  MSres = MSres + (res[i,0] * res[i,0])\n",
        "MSres = MSres / ( np.size(ANS,0) - 91 )\n",
        "MSres"
      ],
      "execution_count": 0,
      "outputs": [
        {
          "output_type": "stream",
          "text": [
            "86.0\n"
          ],
          "name": "stdout"
        },
        {
          "output_type": "execute_result",
          "data": {
            "text/plain": [
              "149.68774548395794"
            ]
          },
          "metadata": {
            "tags": []
          },
          "execution_count": 126
        }
      ]
    },
    {
      "metadata": {
        "id": "fNtARuO8qSs4",
        "colab_type": "text"
      },
      "cell_type": "markdown",
      "source": [
        "Checking prediction on training data:"
      ]
    },
    {
      "metadata": {
        "id": "yUyBDBvkqOBr",
        "colab_type": "code",
        "outputId": "58ccc295-b595-4059-c92a-2fef16c2f47f",
        "colab": {
          "base_uri": "https://localhost:8080/",
          "height": 416
        }
      },
      "cell_type": "code",
      "source": [
        "X_test = A[train_len:,:].copy()\n",
        "X_test[:,0] = 1\n",
        "X_test[0,:]"
      ],
      "execution_count": 0,
      "outputs": [
        {
          "output_type": "execute_result",
          "data": {
            "text/plain": [
              "array([ 1.00000000e+00,  4.54420000e+01, -3.07497600e+01,  3.17858700e+01,\n",
              "        4.63569000e+00, -1.51489400e+01,  2.33700000e-01, -1.19796800e+01,\n",
              "       -9.59708000e+00,  6.48111000e+00, -8.89073000e+00,  4.02405000e+00,\n",
              "       -2.28873000e+00,  1.79020400e+01,  1.37712225e+03,  1.76204257e+03,\n",
              "        9.47344300e+02,  5.62281400e+02,  5.24268110e+02,  3.61254100e+02,\n",
              "        5.14535070e+02,  2.47701260e+02,  3.99788800e+02,  2.05365210e+02,\n",
              "        2.11868700e+02,  4.48897100e+01, -2.99639230e+02, -2.27641690e+02,\n",
              "        7.34210000e+00, -8.58005700e+01,  1.68121100e+01, -4.11858100e+01,\n",
              "       -1.20085800e+01, -4.19211700e+01, -2.65231200e+01, -1.21976500e+01,\n",
              "        8.96110400e+01, -2.66078340e+02, -2.30312230e+02, -1.68296090e+02,\n",
              "        3.84037100e+01,  3.18401600e+01,  2.89807100e+01, -9.87344700e+01,\n",
              "        2.64656500e+01, -3.02327200e+01, -1.34637000e+00,  2.53369450e+02,\n",
              "        6.17342400e+01,  1.61576500e+01,  1.85248680e+02,  7.55724400e+01,\n",
              "        5.51736700e+01, -4.10886900e+01,  1.58643800e+01,  1.60369200e+01,\n",
              "       -1.42579680e+02,  5.97479600e+01, -1.51467610e+02, -1.27061200e+01,\n",
              "       -1.04992420e+02,  2.31051400e+01,  4.70017900e+01, -1.35989400e+01,\n",
              "       -7.91904500e+01, -2.76374500e+01,  3.89460500e+01, -5.54058500e+01,\n",
              "        5.47352700e+01,  1.51052100e+01, -3.79596000e+00,  3.90477200e+02,\n",
              "        1.76401800e+01, -6.86482700e+01, -6.24361100e+01, -3.19609500e+01,\n",
              "        3.39078000e+01, -1.81376090e+02,  1.39840780e+02, -1.29488410e+02,\n",
              "        7.62382600e+01, -8.84046000e+00, -1.54390000e-01,  1.37442100e+02,\n",
              "        7.75473900e+01, -4.22875000e+00, -6.19265700e+01, -3.35272200e+01,\n",
              "       -3.86253000e+00,  3.64240000e+01,  7.17309000e+00])"
            ]
          },
          "metadata": {
            "tags": []
          },
          "execution_count": 47
        }
      ]
    },
    {
      "metadata": {
        "id": "cfuHFiQrrr6W",
        "colab_type": "text"
      },
      "cell_type": "markdown",
      "source": [
        "Normalizing the test data:"
      ]
    },
    {
      "metadata": {
        "id": "VxbV5n3BrvNY",
        "colab_type": "code",
        "outputId": "6e8122e5-a225-4e00-f57b-4c1ae23b0812",
        "colab": {
          "base_uri": "https://localhost:8080/",
          "height": 34
        }
      },
      "cell_type": "code",
      "source": [
        "X_test = (X_test - m)/(n - m)\n",
        "y_test = A[train_len:,0:1].copy()\n",
        "y_test.shape\n",
        "y_test[0,0]"
      ],
      "execution_count": 0,
      "outputs": [
        {
          "output_type": "execute_result",
          "data": {
            "text/plain": [
              "2007.0"
            ]
          },
          "metadata": {
            "tags": []
          },
          "execution_count": 50
        }
      ]
    },
    {
      "metadata": {
        "id": "Uxpmyb5bs7QA",
        "colab_type": "text"
      },
      "cell_type": "markdown",
      "source": [
        "Getting predictions:"
      ]
    },
    {
      "metadata": {
        "id": "jarAUUbps-oT",
        "colab_type": "code",
        "outputId": "f69b0170-1645-4b93-e12f-4b918243e2c0",
        "colab": {
          "base_uri": "https://localhost:8080/",
          "height": 34
        }
      },
      "cell_type": "code",
      "source": [
        "Y_pred = np.dot(X,B)\n",
        "y_pred = np.zeros((np.size(Y_pred,0),1))\n",
        "for i in range(0,np.size(Y_pred,0)):\n",
        "  y_pred[i,0] = np.argmax(Y_pred[i,:]) + 1922\n",
        "diff = y_pred - y_test\n",
        "MSres = 0\n",
        "for i in range(0,np.size(Y_pred,0)):\n",
        "  MSres = MSres + (diff[i,0] * diff[i,0])\n",
        "MSres = MSres / (np.size(Y_pred,0) -91)\n",
        "MSres"
      ],
      "execution_count": 0,
      "outputs": [
        {
          "output_type": "execute_result",
          "data": {
            "text/plain": [
              "159.9588223900833"
            ]
          },
          "metadata": {
            "tags": []
          },
          "execution_count": 77
        }
      ]
    },
    {
      "metadata": {
        "id": "xxHBbW8x1_H5",
        "colab_type": "text"
      },
      "cell_type": "markdown",
      "source": [
        "Checking with linear model:"
      ]
    },
    {
      "metadata": {
        "id": "ozFd2rNv2CTp",
        "colab_type": "code",
        "outputId": "1e8bcb54-af89-46c9-a999-066c8cef0fba",
        "colab": {
          "base_uri": "https://localhost:8080/",
          "height": 34
        }
      },
      "cell_type": "code",
      "source": [
        "x = A[0:train_len,:].copy()\n",
        "x[0:train_len,0] = 1\n",
        "B_lin = np.dot(np.linalg.inv(np.dot(np.transpose(x),x)),np.dot(np.transpose(x),y))\n",
        "y_test = A[train_len:,0:1].copy()\n",
        "x_test = A[train_len:,:].copy()\n",
        "x_test[:,0] = 1\n",
        "diff_lin = np.dot(x_test,B_lin) - y_test\n",
        "(diff_lin == 0).sum()\n",
        "diff_lin.min()"
      ],
      "execution_count": 0,
      "outputs": [
        {
          "output_type": "execute_result",
          "data": {
            "text/plain": [
              "-1971.1458061416201"
            ]
          },
          "metadata": {
            "tags": []
          },
          "execution_count": 65
        }
      ]
    },
    {
      "metadata": {
        "id": "qnWSh7mEz7sL",
        "colab_type": "text"
      },
      "cell_type": "markdown",
      "source": [
        "Instead of taking max entry as predicted year, lets check for minimum norm."
      ]
    },
    {
      "metadata": {
        "id": "Bw234ybt0F2m",
        "colab_type": "code",
        "outputId": "ab25ea10-e44b-4416-95e7-d295a6d30e61",
        "colab": {
          "base_uri": "https://localhost:8080/",
          "height": 34
        }
      },
      "cell_type": "code",
      "source": [
        "y_pred = np.zeros((np.size(Y_pred,0),1))\n",
        "for i in range(0,np.size(Y_pred,0)):\n",
        "  mini = 99999.0\n",
        "  index = 0\n",
        "  for j in range(0,np.size(Y_pred,1)):\n",
        "    ej = np.zeros((1,np.size(Y_pred,1)))\n",
        "    ej[0,j] = 1\n",
        "    dev = np.dot((Y_pred[i,:] - ej),np.transpose(Y_pred[i,:] - ej))\n",
        "    if dev < mini:\n",
        "      mini = dev\n",
        "      index = j\n",
        "  y_pred[i,0] = index + 1922\n",
        "diff = y_pred - y_test\n",
        "MSres = 0\n",
        "for i in range(0,np.size(Y_pred,0)):\n",
        "  MSres = MSres + (diff[i,0] * diff[i,0])\n",
        "MSres = MSres / (np.size(Y_pred,0)-91)\n",
        "MSres"
      ],
      "execution_count": 0,
      "outputs": [
        {
          "output_type": "execute_result",
          "data": {
            "text/plain": [
              "159.9588223900833"
            ]
          },
          "metadata": {
            "tags": []
          },
          "execution_count": 127
        }
      ]
    },
    {
      "metadata": {
        "id": "0u0qOVzw7KNk",
        "colab_type": "code",
        "outputId": "abfe7102-a70a-47e5-b8ed-f1c28ddce057",
        "colab": {
          "base_uri": "https://localhost:8080/",
          "height": 34
        }
      },
      "cell_type": "code",
      "source": [
        "diff.max()"
      ],
      "execution_count": 0,
      "outputs": [
        {
          "output_type": "execute_result",
          "data": {
            "text/plain": [
              "65.0"
            ]
          },
          "metadata": {
            "tags": []
          },
          "execution_count": 73
        }
      ]
    },
    {
      "metadata": {
        "id": "79SDp9r7T0so",
        "colab_type": "text"
      },
      "cell_type": "markdown",
      "source": [
        "Checking multicollinearity:"
      ]
    },
    {
      "metadata": {
        "id": "_khbka2FT4Uq",
        "colab_type": "code",
        "outputId": "cf3d411b-295a-4cc0-fa64-f4ce7d4b7d1a",
        "colab": {
          "base_uri": "https://localhost:8080/",
          "height": 34
        }
      },
      "cell_type": "code",
      "source": [
        "np.linalg.det(np.dot(np.transpose(X),X))"
      ],
      "execution_count": 0,
      "outputs": [
        {
          "output_type": "execute_result",
          "data": {
            "text/plain": [
              "2.152650920630086e-32"
            ]
          },
          "metadata": {
            "tags": []
          },
          "execution_count": 14
        }
      ]
    },
    {
      "metadata": {
        "id": "eZ7NAffbG1SM",
        "colab_type": "code",
        "colab": {}
      },
      "cell_type": "code",
      "source": [
        "from sklearn.feature_selection import SelectKBest\n",
        "\n",
        "from sklearn.linear_model import Ridge"
      ],
      "execution_count": 0,
      "outputs": []
    },
    {
      "metadata": {
        "id": "k8KKwq0vG6nx",
        "colab_type": "code",
        "outputId": "5e89ef85-557f-417c-feba-559bea6680f8",
        "colab": {
          "base_uri": "https://localhost:8080/",
          "height": 52
        }
      },
      "cell_type": "code",
      "source": [
        "ridge = Ridge(alpha=0.15)\n",
        "ridge.fit(X,y)"
      ],
      "execution_count": 0,
      "outputs": [
        {
          "output_type": "execute_result",
          "data": {
            "text/plain": [
              "Ridge(alpha=0.15, copy_X=True, fit_intercept=True, max_iter=None,\n",
              "   normalize=False, random_state=None, solver='auto', tol=0.001)"
            ]
          },
          "metadata": {
            "tags": []
          },
          "execution_count": 39
        }
      ]
    },
    {
      "metadata": {
        "id": "LJ3tlxaIHG_h",
        "colab_type": "code",
        "outputId": "e51f8b96-f899-44f2-85e6-c0d651019602",
        "colab": {
          "base_uri": "https://localhost:8080/",
          "height": 139
        }
      },
      "cell_type": "code",
      "source": [
        "#Beta =np.transpose(ridge.coef_)\n",
        "Y_tr = ridge.predict(X)\n",
        "Y_tr = np.round(Y_tr)\n",
        "Y_tr"
      ],
      "execution_count": 0,
      "outputs": [
        {
          "output_type": "execute_result",
          "data": {
            "text/plain": [
              "array([[75.],\n",
              "       [76.],\n",
              "       [75.],\n",
              "       ...,\n",
              "       [75.],\n",
              "       [81.],\n",
              "       [74.]])"
            ]
          },
          "metadata": {
            "tags": []
          },
          "execution_count": 41
        }
      ]
    },
    {
      "metadata": {
        "id": "qT-hP7heHSrw",
        "colab_type": "code",
        "outputId": "f347cfd5-8ad6-405f-fcc2-839dfcb9222c",
        "colab": {
          "base_uri": "https://localhost:8080/",
          "height": 104
        }
      },
      "cell_type": "code",
      "source": [
        "Serr = 0\n",
        "SAerr = 0\n",
        "count = 0\n",
        "SSerr = 0\n",
        "MSerr = 0\n",
        "y_tr = Y_tr\n",
        "# y_tr = np.zeros((np.size(Y_tr,0),1))\n",
        "# for i in range(0,np.size(Y_pred,0)):\n",
        "#   y_tr[i,0] = np.argmax(Y_tr[i,:])\n",
        "diff = y_tr - y\n",
        "for i in range(0, train_len):\n",
        "  Serr = Serr + y_tr[i,0] - y[i,0] \n",
        "  SAerr = SAerr + abs(y[i,0]-y_tr[i,0])\n",
        "  SSerr = SSerr + ( (y[i,0]-y_tr[i,0])*(y[i,0]-y_tr[i,0]) )\n",
        "  MSerr = MSerr + ( (y[i,0]-y_tr[i,0])*(y[i,0]-y_tr[i,0]) )\n",
        "\n",
        "MSerr = MSerr/(train_len-91)\n",
        "xyz = (abs(diff)<=2).sum()\n",
        "print(\" No of correct predictions = \" + str(xyz))\n",
        "print(\" Percentage correct predictions = \" + str( xyz / train_len))\n",
        "print(\"Sum err: \"+ str(Serr))\n",
        "print(\"Sum abs err: \"+ str(SAerr))\n",
        "print(\"MS Res:: \"+ str(MSerr) )"
      ],
      "execution_count": 0,
      "outputs": [
        {
          "output_type": "stream",
          "text": [
            " No of correct predictions = 92631\n",
            " Percentage correct predictions = 0.1997584723375349\n",
            "Sum err: 143.0\n",
            "Sum abs err: 3536607.0\n",
            "MS Res:: 106.5383855486654\n"
          ],
          "name": "stdout"
        }
      ]
    },
    {
      "metadata": {
        "id": "JqCkvWMb9F49",
        "colab_type": "text"
      },
      "cell_type": "markdown",
      "source": [
        "for ridge regression normal wala\n",
        "\n",
        "No of correct predictions = 92631\n",
        " Percentage correct predictions = 0.1997584723375349\n",
        "Sum err: 143.0\n",
        "Sum abs err: 3536607.0\n",
        "MS Res:: 106.5383855486654\n",
        "AIC = 2164945.948665589\n",
        "BIC = 2165940.1809532414"
      ]
    },
    {
      "metadata": {
        "id": "4UwC1VGdOn5P",
        "colab_type": "code",
        "outputId": "372b6b2e-605b-481a-d717-d25d8f19b5e0",
        "colab": {
          "base_uri": "https://localhost:8080/",
          "height": 52
        }
      },
      "cell_type": "code",
      "source": [
        "import math\n",
        "\n",
        "n = train_len\n",
        "\n",
        "K = 90\n",
        "\n",
        "AIC = n*math.log(SSerr/n) + 2*K\n",
        "BIC = n*math.log(SSerr/n) + K*math.log(n)\n",
        "\n",
        "print(\"AIC = \"+str(AIC))\n",
        "print(\"BIC = \"+ str(BIC))"
      ],
      "execution_count": 0,
      "outputs": [
        {
          "output_type": "stream",
          "text": [
            "AIC = 2164945.948665589\n",
            "BIC = 2165940.1809532414\n"
          ],
          "name": "stdout"
        }
      ]
    },
    {
      "metadata": {
        "id": "Vu8rnrPWV63X",
        "colab_type": "text"
      },
      "cell_type": "markdown",
      "source": [
        "n = 60\n",
        "AIC = 3977760.0725924387\n",
        "BIC = 3978754.304880091\n",
        "\n",
        "n= 55\n",
        "AIC = 3977760.471157472\n",
        "BIC = 3978754.7034451244\n",
        "\n",
        "n = 85\n",
        "AIC = 3977760.4655094105\n",
        "BIC = 3978754.697797063\n",
        "\n",
        "n = 80\n",
        "AIC = 3977747.457653259\n",
        "BIC = 3978741.6899409113\n",
        "\n",
        "n = 75  lambda  = 0.5\n",
        "AIC = 3977747.112735172\n",
        "BIC = 3978741.345022824\n",
        "\n",
        " n = 75 lambda  = 0.25\n",
        " AIC = 3977735.9865416763\n",
        "BIC = 3978730.2188293287\n",
        "\n",
        "n = 75 lambda = 0.15\n",
        "AIC = 3977728.1949407365\n",
        "BIC = 3978722.427228389\n",
        "\n",
        "n = 70 lambda = 0.15\n",
        "AIC = 3977729.193586414\n",
        "BIC = 3978723.4258740665\n",
        "\n",
        "n = 70 lambda = 0.25\n",
        "AIC = 3977736.4628864224\n",
        "BIC = 3978730.6951740747\n",
        "\n"
      ]
    },
    {
      "metadata": {
        "id": "JE-xE4uXOo6U",
        "colab_type": "code",
        "colab": {}
      },
      "cell_type": "code",
      "source": [
        "from sklearn.decomposition import PCA\n",
        "\n",
        "pca = PCA(n_components=85)\n",
        "\n",
        "X1 = pca.fit_transform(X)"
      ],
      "execution_count": 0,
      "outputs": []
    },
    {
      "metadata": {
        "id": "t7ZqOGaeRSvZ",
        "colab_type": "code",
        "colab": {}
      },
      "cell_type": "code",
      "source": [
        "\n",
        "pca = PCA(n_components=75)"
      ],
      "execution_count": 0,
      "outputs": []
    },
    {
      "metadata": {
        "id": "87G30GkHU5XJ",
        "colab_type": "code",
        "colab": {}
      },
      "cell_type": "code",
      "source": [
        ""
      ],
      "execution_count": 0,
      "outputs": []
    },
    {
      "metadata": {
        "id": "aid9dyl6U5uU",
        "colab_type": "code",
        "colab": {}
      },
      "cell_type": "code",
      "source": [
        ""
      ],
      "execution_count": 0,
      "outputs": []
    },
    {
      "metadata": {
        "id": "kH5mCVpsU6EA",
        "colab_type": "code",
        "colab": {}
      },
      "cell_type": "code",
      "source": [
        ""
      ],
      "execution_count": 0,
      "outputs": []
    },
    {
      "metadata": {
        "id": "eFGIVQ-oRVT0",
        "colab_type": "code",
        "colab": {}
      },
      "cell_type": "code",
      "source": [
        "X1 = pca.fit_transform(X)"
      ],
      "execution_count": 0,
      "outputs": []
    },
    {
      "metadata": {
        "id": "duxcedGFRusx",
        "colab_type": "code",
        "outputId": "3317ebb4-4c2e-485d-8476-00d1bcdff604",
        "colab": {
          "base_uri": "https://localhost:8080/",
          "height": 52
        }
      },
      "cell_type": "code",
      "source": [
        "print(X.shape)\n",
        "print(X1.shape)\n"
      ],
      "execution_count": 0,
      "outputs": [
        {
          "output_type": "stream",
          "text": [
            "(463715, 91)\n",
            "(463715, 75)\n"
          ],
          "name": "stdout"
        }
      ]
    },
    {
      "metadata": {
        "id": "upKsTb1nR0mM",
        "colab_type": "code",
        "outputId": "a165b35c-9939-43dc-b7c3-7f6e4b8edd99",
        "colab": {
          "base_uri": "https://localhost:8080/",
          "height": 34
        }
      },
      "cell_type": "code",
      "source": [
        "np.linalg.det(np.dot(np.transpose(X1),X1))"
      ],
      "execution_count": 0,
      "outputs": [
        {
          "output_type": "execute_result",
          "data": {
            "text/plain": [
              "1355488410164979.5"
            ]
          },
          "metadata": {
            "tags": []
          },
          "execution_count": 137
        }
      ]
    },
    {
      "metadata": {
        "id": "fFuXeZaTSebj",
        "colab_type": "code",
        "outputId": "c2425a1c-603e-4002-e9dc-8f03db8f9ed0",
        "colab": {
          "base_uri": "https://localhost:8080/",
          "height": 243
        }
      },
      "cell_type": "code",
      "source": [
        "X1"
      ],
      "execution_count": 0,
      "outputs": [
        {
          "output_type": "execute_result",
          "data": {
            "text/plain": [
              "array([[-2410.11251647,    26.20044223,   124.81117857, ...,\n",
              "          -20.77002006,   -35.16298062,   -68.78357581],\n",
              "       [-1434.70788008,  1127.89955598,  -234.85348477, ...,\n",
              "          160.48362111,    23.40557211,   -72.99639208],\n",
              "       [-2338.01454481,    19.31792167,    33.85140074, ...,\n",
              "          178.72894888,   -23.2624885 ,   -34.12979752],\n",
              "       ...,\n",
              "       [-1739.57137809,   555.98441052,   248.04815099, ...,\n",
              "          -23.13775568,   -29.58644359,     9.14864698],\n",
              "       [  -46.7611147 ,  1226.85102277,  -763.22991155, ...,\n",
              "         -198.33002771,    39.77173972,   -45.55341257],\n",
              "       [-3131.73274781,   417.30136998,   -68.2108994 , ...,\n",
              "          -62.43651148,    -6.4713389 ,   -32.4854088 ]])"
            ]
          },
          "metadata": {
            "tags": []
          },
          "execution_count": 107
        }
      ]
    },
    {
      "metadata": {
        "id": "_oZ04zfiSiaI",
        "colab_type": "code",
        "colab": {}
      },
      "cell_type": "code",
      "source": [
        "\n",
        "# from sklearn.feature_selection import RFE\n",
        "# from sklearn.svm import SVR\n",
        "# #X, y = make_friedman1(n_samples=50, n_features=10, random_state=0)\n",
        "# estimator = SVR(kernel=\"linear\")\n",
        "# selector = RFE(estimator, step=1)\n",
        "# selector = selector.fit(X, Y)\n",
        "# # selector.support_ \n",
        "\n",
        "# # selector.ranking_\n",
        "\n",
        "\n",
        "# # Methods"
      ],
      "execution_count": 0,
      "outputs": []
    },
    {
      "metadata": {
        "id": "0hnqpwxXa37k",
        "colab_type": "code",
        "colab": {}
      },
      "cell_type": "code",
      "source": [
        ""
      ],
      "execution_count": 0,
      "outputs": []
    }
  ]
}